{
  "nbformat": 4,
  "nbformat_minor": 0,
  "metadata": {
    "colab": {
      "provenance": [],
      "authorship_tag": "ABX9TyO3uUFZt9SOt+mfAxtGbILc",
      "include_colab_link": true
    },
    "kernelspec": {
      "name": "python3",
      "display_name": "Python 3"
    },
    "language_info": {
      "name": "python"
    }
  },
  "cells": [
    {
      "cell_type": "markdown",
      "metadata": {
        "id": "view-in-github",
        "colab_type": "text"
      },
      "source": [
        "<a href=\"https://colab.research.google.com/github/dylaneisner/python-project/blob/main/try_and_except.ipynb\" target=\"_parent\"><img src=\"https://colab.research.google.com/assets/colab-badge.svg\" alt=\"Open In Colab\"/></a>"
      ]
    },
    {
      "cell_type": "code",
      "execution_count": 8,
      "metadata": {
        "colab": {
          "base_uri": "https://localhost:8080/"
        },
        "id": "SzHuDM9PKWZ_",
        "outputId": "1226ec3b-42c7-4e58-82ea-15cb9b8d4899"
      },
      "outputs": [
        {
          "output_type": "execute_result",
          "data": {
            "text/plain": [
              "12.0"
            ]
          },
          "metadata": {},
          "execution_count": 8
        }
      ],
      "source": [
        "\n",
        "def avg(alist):\n",
        "  try:\n",
        "    return sum(alist) / len(alist)\n",
        "  except ZeroDivisionError:\n",
        "    print(\"The list is empty\")\n",
        "    return\n",
        "  except TypeError:\n",
        "    print(\"List must be of integers\")\n",
        "    return float('nan')\n",
        "  except:\n",
        "    print(\"Unknown error...\")\n",
        "\n",
        "L = [12,12]\n",
        "avg(L)"
      ]
    }
  ]
}