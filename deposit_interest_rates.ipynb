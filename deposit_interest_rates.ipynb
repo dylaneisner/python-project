{
  "nbformat": 4,
  "nbformat_minor": 0,
  "metadata": {
    "colab": {
      "provenance": [],
      "authorship_tag": "ABX9TyPIOgXlm9OY0zdJWKjyeU+f",
      "include_colab_link": true
    },
    "kernelspec": {
      "name": "python3",
      "display_name": "Python 3"
    },
    "language_info": {
      "name": "python"
    }
  },
  "cells": [
    {
      "cell_type": "markdown",
      "metadata": {
        "id": "view-in-github",
        "colab_type": "text"
      },
      "source": [
        "<a href=\"https://colab.research.google.com/github/dylaneisner/python-project/blob/main/deposit_interest_rates.ipynb\" target=\"_parent\"><img src=\"https://colab.research.google.com/assets/colab-badge.svg\" alt=\"Open In Colab\"/></a>"
      ]
    },
    {
      "cell_type": "code",
      "execution_count": 4,
      "metadata": {
        "colab": {
          "base_uri": "https://localhost:8080/"
        },
        "id": "FpjqQbD7XDCd",
        "outputId": "7e6fbb63-a15a-4040-c7c2-0f4b574d4681"
      },
      "outputs": [
        {
          "output_type": "stream",
          "name": "stdout",
          "text": [
            "Enter customer type (N = New; E = Existing): E\n",
            "Enter deposit amount: 1050\n",
            "The total amount including interest is: $1086.75\n"
          ]
        }
      ],
      "source": [
        "customer_type = input('Enter customer type (N = New; E = Existing): ')\n",
        "deposit = float(input('Enter deposit amount: '))\n",
        "\n",
        "if customer_type == \"E\":\n",
        "  if deposit > 1000:\n",
        "    r = 3.5\n",
        "  elif deposit > 1000:\n",
        "    r = 3.25\n",
        "  else:\n",
        "    r = 3\n",
        "else:\n",
        "  r = 3\n",
        "\n",
        "total = (1+ (r/100))* deposit\n",
        "print(f'The total amount including interest is: ${round(total,2)}')"
      ]
    }
  ]
}