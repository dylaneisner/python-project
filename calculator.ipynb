{
  "nbformat": 4,
  "nbformat_minor": 0,
  "metadata": {
    "colab": {
      "provenance": [],
      "authorship_tag": "ABX9TyNxH62QT/2OHOEglRzkUpBJ",
      "include_colab_link": true
    },
    "kernelspec": {
      "name": "python3",
      "display_name": "Python 3"
    },
    "language_info": {
      "name": "python"
    }
  },
  "cells": [
    {
      "cell_type": "markdown",
      "metadata": {
        "id": "view-in-github",
        "colab_type": "text"
      },
      "source": [
        "<a href=\"https://colab.research.google.com/github/dylaneisner/python-project/blob/main/calculator.ipynb\" target=\"_parent\"><img src=\"https://colab.research.google.com/assets/colab-badge.svg\" alt=\"Open In Colab\"/></a>"
      ]
    },
    {
      "cell_type": "code",
      "execution_count": 7,
      "metadata": {
        "colab": {
          "base_uri": "https://localhost:8080/"
        },
        "id": "F8J8T4oY5VLR",
        "outputId": "6a90cb46-02e1-407b-acba-fec842df22de"
      },
      "outputs": [
        {
          "name": "stdout",
          "output_type": "stream",
          "text": [
            "What operation are you performing? +\n",
            "First value: 5\n",
            "Second value: 2\n",
            "7.0\n",
            "What operation are you performing? break\n"
          ]
        }
      ],
      "source": [
        "# Design a calcualtor -\n",
        "# Once the calculator starts, cannot stop unless the user chooses to (infinite loop)\n",
        "# Implement all numerical operators taht were discussed (+ - * **(power) / // %)\n",
        "# The user has to provide the numbers and the desired operator from the keyboard; then the calculator will display the result\n",
        "#          (use three separate calls to fucntion input() for eachone of the inputs)\n",
        "# Numbers: int or floar\n",
        "# Operator: str\n",
        "# The calculator stops if the user enters the word break instead of an operator;\n",
        "#           it skips an iteration if the user gives an operator that is not numerical (boolean)\n",
        "\n",
        "while True:\n",
        "\n",
        "  operator = input(\"What operation are you performing? \")\n",
        "  if operator == \"Break\" or operator ==\"break\":\n",
        "    break\n",
        "  n1 = float(input(\"First value: \"))\n",
        "  n2 = float(input(\"Second value: \"))\n",
        "\n",
        "  if operator == \"+\":\n",
        "    print(n1 + n2)\n",
        "  elif operator == \"-\":\n",
        "    print(n1 - n2)\n",
        "  elif operator == \"*\":\n",
        "    print(n1 * n2)\n",
        "  elif operator == \"/\":\n",
        "    print(n1 / n2)\n",
        "  elif operator == \"//\":\n",
        "    print(n1 // n2)\n",
        "  elif operator == \"**\":\n",
        "    print(n1 ** n2)\n",
        "  elif operator == \"%\":\n",
        "    print(n1 % n2)\n",
        "  else:\n",
        "    continue\n",
        "\n",
        "\n",
        "\n",
        "\n",
        "\n",
        ""
      ]
    }
  ]
}