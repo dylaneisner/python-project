{
  "nbformat": 4,
  "nbformat_minor": 0,
  "metadata": {
    "colab": {
      "provenance": [],
      "authorship_tag": "ABX9TyMlZzzkFQjW8Sy2pidrQlx8",
      "include_colab_link": true
    },
    "kernelspec": {
      "name": "python3",
      "display_name": "Python 3"
    },
    "language_info": {
      "name": "python"
    }
  },
  "cells": [
    {
      "cell_type": "markdown",
      "metadata": {
        "id": "view-in-github",
        "colab_type": "text"
      },
      "source": [
        "<a href=\"https://colab.research.google.com/github/dylaneisner/python-project/blob/main/mirror_fucntion.ipynb\" target=\"_parent\"><img src=\"https://colab.research.google.com/assets/colab-badge.svg\" alt=\"Open In Colab\"/></a>"
      ]
    },
    {
      "cell_type": "code",
      "execution_count": null,
      "metadata": {
        "id": "SEmPgLhGZ3xX"
      },
      "outputs": [],
      "source": [
        "def backwards(n):\n",
        "    if len(n) == 1:\n",
        "        return n\n",
        "    else:\n",
        "        return n[-1] + backwards(n[:-1])\n",
        "\n",
        "backwards(\"Dylan\")"
      ]
    }
  ]
}