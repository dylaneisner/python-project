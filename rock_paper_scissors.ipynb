{
  "nbformat": 4,
  "nbformat_minor": 0,
  "metadata": {
    "colab": {
      "provenance": [],
      "authorship_tag": "ABX9TyPUxXfLfJYrUyPVsRfGN1FN",
      "include_colab_link": true
    },
    "kernelspec": {
      "name": "python3",
      "display_name": "Python 3"
    },
    "language_info": {
      "name": "python"
    }
  },
  "cells": [
    {
      "cell_type": "markdown",
      "metadata": {
        "id": "view-in-github",
        "colab_type": "text"
      },
      "source": [
        "<a href=\"https://colab.research.google.com/github/dylaneisner/python-project/blob/main/rock_paper_scissors.ipynb\" target=\"_parent\"><img src=\"https://colab.research.google.com/assets/colab-badge.svg\" alt=\"Open In Colab\"/></a>"
      ]
    },
    {
      "cell_type": "code",
      "execution_count": 1,
      "metadata": {
        "colab": {
          "base_uri": "https://localhost:8080/"
        },
        "id": "T8mNDmAL4lGN",
        "outputId": "0d4a63e9-e305-4cbd-d0ee-f6baf7cb6029"
      },
      "outputs": [
        {
          "output_type": "stream",
          "name": "stdout",
          "text": [
            "Rock, Paper, or Scissors? Rock\n",
            "You win!\n",
            "Do you want to play again? No\n",
            "Thank you for playing. \n"
          ]
        }
      ],
      "source": [
        "import random\n",
        "user_choice = input(\"Rock, Paper, or Scissors? \")\n",
        "pc_choice = random.choice(['rock','paper','scissors']).title()\n",
        "\n",
        "if user_choice == pc_choice:\n",
        "  print(\"It's a tie!\")\n",
        "elif user_choice == \"Rock\" and pc_choice == \"Scissors\":\n",
        "  print(\"You win!\")\n",
        "elif user_choice == \"Rock\" and pc_choice == \"Paper\":\n",
        "  print(\"PC wins!\")\n",
        "elif user_choice == \"Paper\" and pc_choice == \"Rock\":\n",
        "  print(\"You win!\")\n",
        "elif user_choice == \"Paper\" and pc_choice == \"Scissors\":\n",
        "  print(\"PC wins\")\n",
        "elif user_choice == \"Scissors\" and pc_choice == \"Rock\":\n",
        "  print(\"PC wins!\")\n",
        "elif user_choice == \"Scissors\" and pc_choice == \"Paper\":\n",
        "  print(\"You win!\")\n",
        "else:\n",
        "  print(\"Wrong input. Try again.\")\n",
        "play_again = input(\"Do you want to play again? \")\n",
        "if play_again != \"Yes\":\n",
        "  print(\"Thank you for playing. \")"
      ]
    }
  ]
}