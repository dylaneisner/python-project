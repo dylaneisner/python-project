{
  "nbformat": 4,
  "nbformat_minor": 0,
  "metadata": {
    "colab": {
      "provenance": [],
      "authorship_tag": "ABX9TyPjLfuh6zjrT0x63Agnnqos",
      "include_colab_link": true
    },
    "kernelspec": {
      "name": "python3",
      "display_name": "Python 3"
    },
    "language_info": {
      "name": "python"
    }
  },
  "cells": [
    {
      "cell_type": "markdown",
      "metadata": {
        "id": "view-in-github",
        "colab_type": "text"
      },
      "source": [
        "<a href=\"https://colab.research.google.com/github/dylaneisner/python-project/blob/main/list_creator.ipynb\" target=\"_parent\"><img src=\"https://colab.research.google.com/assets/colab-badge.svg\" alt=\"Open In Colab\"/></a>"
      ]
    },
    {
      "cell_type": "code",
      "execution_count": 5,
      "metadata": {
        "colab": {
          "base_uri": "https://localhost:8080/"
        },
        "id": "FpjqQbD7XDCd",
        "outputId": "31e3d86f-3f30-4b6a-c1ea-0207e5597079"
      },
      "outputs": [
        {
          "output_type": "stream",
          "name": "stdout",
          "text": [
            "Enter an integer to add to the list:10\n",
            "Here is your current list: [10]\n",
            "Enter an integer to add to the list:12\n",
            "Here is your current list: [10, 12]\n",
            "Enter an integer to add to the list:15\n",
            "Here is your current list: [10, 12, 15]\n",
            "Enter an integer to add to the list:22\n",
            "Here is your current list: [10, 12, 15, 22]\n",
            "Enter an integer to add to the list:0\n",
            "Here is your list: [10, 12, 15, 22]\n"
          ]
        }
      ],
      "source": [
        "List = []\n",
        "while True:\n",
        "  userinput = int(input('Enter an integer to add to the list:'))\n",
        "  if userinput ==0:\n",
        "    break\n",
        "  List.append(userinput)\n",
        "  print(f'Here is your current list: {List}')\n",
        "\n",
        "print(f'Here is your list: {List}')"
      ]
    }
  ]
}