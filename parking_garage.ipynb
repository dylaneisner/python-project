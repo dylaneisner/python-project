{
  "nbformat": 4,
  "nbformat_minor": 0,
  "metadata": {
    "colab": {
      "provenance": [],
      "authorship_tag": "ABX9TyMIWKbu5lmo/1+/085GbVNd",
      "include_colab_link": true
    },
    "kernelspec": {
      "name": "python3",
      "display_name": "Python 3"
    },
    "language_info": {
      "name": "python"
    }
  },
  "cells": [
    {
      "cell_type": "markdown",
      "metadata": {
        "id": "view-in-github",
        "colab_type": "text"
      },
      "source": [
        "<a href=\"https://colab.research.google.com/github/dylaneisner/python-project/blob/main/parking_garage.ipynb\" target=\"_parent\"><img src=\"https://colab.research.google.com/assets/colab-badge.svg\" alt=\"Open In Colab\"/></a>"
      ]
    },
    {
      "cell_type": "code",
      "execution_count": 6,
      "metadata": {
        "colab": {
          "base_uri": "https://localhost:8080/"
        },
        "id": "FpjqQbD7XDCd",
        "outputId": "b8373ebf-8843-4d89-e7bc-e0b2fffb4fd9"
      },
      "outputs": [
        {
          "output_type": "stream",
          "name": "stdout",
          "text": [
            "1 hour costs $7.5\n",
            "2 hour costs $10.0\n",
            "3 hour costs $12.5\n",
            "4 hour costs $15.0\n",
            "5 hour costs $17.5\n",
            "6 hour costs $20.0\n",
            "7 hour costs $22.5\n",
            "8 hour costs $25.0\n"
          ]
        }
      ],
      "source": [
        "for i in range(1,9):\n",
        "  print(f'{i} hour costs ${5+2.5*i}')"
      ]
    }
  ]
}