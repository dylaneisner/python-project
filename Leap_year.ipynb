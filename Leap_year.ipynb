{
  "nbformat": 4,
  "nbformat_minor": 0,
  "metadata": {
    "colab": {
      "provenance": [],
      "authorship_tag": "ABX9TyNpbbQnkIMW+aBk1H3v0jgP",
      "include_colab_link": true
    },
    "kernelspec": {
      "name": "python3",
      "display_name": "Python 3"
    },
    "language_info": {
      "name": "python"
    }
  },
  "cells": [
    {
      "cell_type": "markdown",
      "metadata": {
        "id": "view-in-github",
        "colab_type": "text"
      },
      "source": [
        "<a href=\"https://colab.research.google.com/github/dylaneisner/python-project/blob/main/Leap_year.ipynb\" target=\"_parent\"><img src=\"https://colab.research.google.com/assets/colab-badge.svg\" alt=\"Open In Colab\"/></a>"
      ]
    },
    {
      "cell_type": "code",
      "execution_count": 1,
      "metadata": {
        "colab": {
          "base_uri": "https://localhost:8080/"
        },
        "id": "FpjqQbD7XDCd",
        "outputId": "286fdd06-bf6f-44d2-d259-45536acc2b17"
      },
      "outputs": [
        {
          "output_type": "stream",
          "name": "stdout",
          "text": [
            "What year is it? 2024\n",
            "It is a leap year. \n"
          ]
        }
      ],
      "source": [
        "year = float(input(\"What year is it? \"))\n",
        "if year%4 == 0 and year%100 != 0 or year%400 == 0:\n",
        "  print(\"It is a leap year. \")\n",
        "else:\n",
        "  print(\"It is not a leap year. \")"
      ]
    }
  ]
}