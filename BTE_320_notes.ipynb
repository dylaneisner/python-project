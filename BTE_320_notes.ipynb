{
  "nbformat": 4,
  "nbformat_minor": 0,
  "metadata": {
    "colab": {
      "provenance": [],
      "authorship_tag": "ABX9TyNzfx/VvrjQYqWHCG8Iia6p",
      "include_colab_link": true
    },
    "kernelspec": {
      "name": "python3",
      "display_name": "Python 3"
    },
    "language_info": {
      "name": "python"
    }
  },
  "cells": [
    {
      "cell_type": "markdown",
      "metadata": {
        "id": "view-in-github",
        "colab_type": "text"
      },
      "source": [
        "<a href=\"https://colab.research.google.com/github/dylaneisner/python-project/blob/main/BTE_320_notes.ipynb\" target=\"_parent\"><img src=\"https://colab.research.google.com/assets/colab-badge.svg\" alt=\"Open In Colab\"/></a>"
      ]
    },
    {
      "cell_type": "markdown",
      "source": [
        "Create an input and have it display user name"
      ],
      "metadata": {
        "id": "_9vlmVK7ELoO"
      }
    },
    {
      "cell_type": "markdown",
      "source": [
        "variables: xxx = 20 ---> attaches string to a value\n",
        "\n"
      ],
      "metadata": {
        "id": "Leqd-4vualfA"
      }
    },
    {
      "cell_type": "markdown",
      "source": [],
      "metadata": {
        "id": "6FdA9Mq1vJOJ"
      }
    },
    {
      "cell_type": "code",
      "source": [
        "birth_year = input(\"Enter your birth year: \")\n",
        "age = 2024 - int(birth_year)\n",
        "print(age)"
      ],
      "metadata": {
        "colab": {
          "base_uri": "https://localhost:8080/"
        },
        "id": "sehsMpHYae5k",
        "outputId": "943bda21-4538-4044-b5a5-77c63648c0a5"
      },
      "execution_count": null,
      "outputs": [
        {
          "output_type": "stream",
          "name": "stdout",
          "text": [
            "Enter your birth year: 2004\n",
            "20\n"
          ]
        }
      ]
    },
    {
      "cell_type": "code",
      "execution_count": null,
      "metadata": {
        "id": "s5Umqn0FxQBf",
        "colab": {
          "base_uri": "https://localhost:8080/"
        },
        "outputId": "66c22054-0e74-474b-eff1-a5cf7c338788"
      },
      "outputs": [
        {
          "output_type": "stream",
          "name": "stdout",
          "text": [
            "Enter your name: Dylan\n",
            "hi Dylan\n"
          ]
        },
        {
          "output_type": "execute_result",
          "data": {
            "text/plain": [
              "str"
            ]
          },
          "metadata": {},
          "execution_count": 2
        }
      ],
      "source": [
        "name = input('Enter your name: ')\n",
        "print('Hi', name)\n",
        "type(name)"
      ]
    },
    {
      "cell_type": "code",
      "source": [
        "n = float(input('Enter an interger value: '))\n",
        "print(type(n), n)"
      ],
      "metadata": {
        "colab": {
          "base_uri": "https://localhost:8080/"
        },
        "id": "YsglYp4hEkj4",
        "outputId": "1cc63090-7bba-437c-f112-e1feabe48111"
      },
      "execution_count": null,
      "outputs": [
        {
          "output_type": "stream",
          "name": "stdout",
          "text": [
            "Enter an interger value: 12\n",
            "<class 'float'> 12.0\n"
          ]
        }
      ]
    },
    {
      "cell_type": "markdown",
      "source": [
        "Conditional statements"
      ],
      "metadata": {
        "id": "2ophIpyEEZ2G"
      }
    },
    {
      "cell_type": "markdown",
      "source": [
        "in line 1 \"float\" is used to add the decimal\n",
        "  to any number that is inputted, it wil be able to return it;\n",
        "\n",
        "if \"int\" was used, it would not be able to return numbers with decimals in them"
      ],
      "metadata": {
        "id": "EE1VxBRII4FS"
      }
    },
    {
      "cell_type": "code",
      "source": [
        "userInput = float(input('Enter a number: '))\n",
        "if userInput > 0:\n",
        "  print(f'{userInput} is positive')\n",
        "elif userInput < 0:\n",
        "    print(f'{userInput} is negative')\n",
        "elif userInput == 0:\n",
        "  print(f'{userInput} is zero')\n"
      ],
      "metadata": {
        "colab": {
          "base_uri": "https://localhost:8080/"
        },
        "id": "h1L1E_EPF_Up",
        "outputId": "f2a4795a-7eff-4b28-ab8e-f96d2a69ee71"
      },
      "execution_count": null,
      "outputs": [
        {
          "output_type": "stream",
          "name": "stdout",
          "text": [
            "Enter a number: 12\n",
            "12.0 is positive\n"
          ]
        }
      ]
    },
    {
      "cell_type": "markdown",
      "source": [
        "Write code that prints letter grades for students:"
      ],
      "metadata": {
        "id": "7hrAhPJPJwjg"
      }
    },
    {
      "cell_type": "code",
      "source": [
        "Grade = float(input('What is your grade? '))\n",
        "A = 90\n",
        "B = 89.9\n",
        "C = 79.9\n",
        "Fail = 69.9\n",
        "if Grade >= 90:\n",
        "  print('You got an A')\n",
        "elif Grade >= 79.9:\n",
        "    print('You got a B')\n",
        "elif Grade >= 70:\n",
        "  print('You got a C')\n",
        "else:\n",
        "  print('You have a failing grade.')"
      ],
      "metadata": {
        "colab": {
          "base_uri": "https://localhost:8080/"
        },
        "id": "NFEc0BKdJ0n5",
        "outputId": "f4fae240-90f9-48bb-fe8d-44f1eb04960e"
      },
      "execution_count": null,
      "outputs": [
        {
          "output_type": "stream",
          "name": "stdout",
          "text": [
            "What is your grade? 96\n",
            "You got an A\n"
          ]
        }
      ]
    },
    {
      "cell_type": "markdown",
      "source": [
        "If divisible by 2 --> 0 ; print even/odd"
      ],
      "metadata": {
        "id": "HoW2fSVHoj5v"
      }
    },
    {
      "cell_type": "code",
      "source": [
        "x = int(input(\"Print a number: \"))\n",
        "if x%2 == 0:\n",
        "  print('Even')\n",
        "else:\n",
        "  print('Odd')"
      ],
      "metadata": {
        "colab": {
          "base_uri": "https://localhost:8080/"
        },
        "id": "6yOkRAPyOYaX",
        "outputId": "26ce6da0-e82c-40d1-cc12-a34debc3b2d3"
      },
      "execution_count": null,
      "outputs": [
        {
          "output_type": "stream",
          "name": "stdout",
          "text": [
            "Print a number: 34\n",
            "Even\n"
          ]
        }
      ]
    },
    {
      "cell_type": "markdown",
      "source": [
        "deposit > $10,000 ; ir = 3.5%\n",
        "\n",
        "$1000 < deposit < $10,000 ; ir = 3.25 %\n",
        "\n",
        "deposit <= $1,000 ; ir = 3.0%"
      ],
      "metadata": {
        "id": "SHYPFK-zvOvF"
      }
    },
    {
      "cell_type": "code",
      "source": [
        "# step 1: input deposit amount\n",
        "\n",
        "deposit = float(input('Enter the deposit amount ($): '))\n",
        "\n",
        "# step 2: decide interest rate\n",
        "\n",
        "if deposit > 10000:\n",
        "  ir = 3.5\n",
        "elif deposit <= 1000:\n",
        "  ir = 3.0\n",
        "else:\n",
        "  ir = 3.25\n",
        "\n",
        "# step 3: calculate total amount after interest rate is applied:\n",
        "\n",
        "total = (1 + ir/100) * deposit\n",
        "print(f'Toatl after interest applied: ${round(total, 2)}')"
      ],
      "metadata": {
        "colab": {
          "base_uri": "https://localhost:8080/"
        },
        "id": "qeby8N84xhr5",
        "outputId": "bffcbd68-0181-4420-9434-6c67847e2177"
      },
      "execution_count": null,
      "outputs": [
        {
          "output_type": "stream",
          "name": "stdout",
          "text": [
            "Enter the deposit amount ($): 2934982394\n",
            "Toatl after interest applied: $3037706777.79\n"
          ]
        }
      ]
    },
    {
      "cell_type": "markdown",
      "source": [
        "NESTED CONDITIONS:\n",
        "\n",
        "    if cond(true):\n",
        "\n",
        "     if inner cond(true)\n",
        "\n",
        "test integer value that is divisible by 2 and 3\n"
      ],
      "metadata": {
        "id": "KKgkcXnF0yEr"
      }
    },
    {
      "cell_type": "code",
      "source": [
        "x = float(input(\"Enter a number to see if it is divisible by 2 or 3: \"))\n",
        "if x%2 == 0: # first checks if x%2 equals to zero\n",
        "  if x%3 == 0: # if x%2 indeed equals zero, then checks if x%3 is also equal to zero\n",
        "    print(\"Divisible by 2 and 3\")\n",
        "  else:\n",
        "    print(\"Divisible by 2 but not 3\")\n",
        "elif x%3 == 0:\n",
        "  print(\"Divisible by 3 and not 2\")\n",
        "else:\n",
        "  print(\"Neither divisible by 2 nor 3\")\n",
        "\n",
        "  # AND function OR function NOT function all useful in similar situations"
      ],
      "metadata": {
        "colab": {
          "base_uri": "https://localhost:8080/"
        },
        "id": "1iGz5OPA1VXc",
        "outputId": "6fb3de81-a8c8-4c1c-ad19-b8e2ed8ae440"
      },
      "execution_count": null,
      "outputs": [
        {
          "output_type": "stream",
          "name": "stdout",
          "text": [
            "Enter a number to see if it is divisible by 2 or 3: 12\n",
            "Divisible by 2 and 3\n"
          ]
        }
      ]
    },
    {
      "cell_type": "code",
      "source": [
        "if (age > 25 and m_status == \"single\") or assets > 100000:\n",
        "  print(\"Eligible for loan\")"
      ],
      "metadata": {
        "id": "3wJ4QJt_45Lu"
      },
      "execution_count": null,
      "outputs": []
    },
    {
      "cell_type": "code",
      "source": [
        "x = 2\n",
        "y = 4\n",
        "z = 6\n",
        "\n",
        "if x < y and x < z:\n",
        "  print('x is least')\n",
        "elif y < z:\n",
        "  print('y is least')\n",
        "else:\n",
        "  print('z is least')"
      ],
      "metadata": {
        "id": "z0T7Gd7V4t1z"
      },
      "execution_count": null,
      "outputs": []
    },
    {
      "cell_type": "markdown",
      "source": [
        "Rock paper scissors game -\n"
      ],
      "metadata": {
        "id": "Q_P8x0ZVC4aL"
      }
    },
    {
      "cell_type": "code",
      "source": [
        "import random\n",
        "user_choice = input(\"Rock, Paper, or Scissors? \")\n",
        "pc_choice = random.choice(['rock','paper','scissors']).title()\n",
        "\n",
        "if user_choice == pc_choice:\n",
        "  print(\"It's a tie!\")\n",
        "elif user_choice == \"Rock\" and pc_choice == \"Scissors\":\n",
        "  print(\"You win!\")\n",
        "elif user_choice == \"Rock\" and pc_choice == \"Paper\":\n",
        "  print(\"PC wins!\")\n",
        "elif user_choice == \"Paper\" and pc_choice == \"Rock\":\n",
        "  print(\"You win!\")\n",
        "elif user_choice == \"Paper\" and pc_choice == \"Scissors\":\n",
        "  print(\"PC wins\")\n",
        "elif user_choice == \"Scissors\" and pc_choice == \"Rock\":\n",
        "  print(\"PC wins!\")\n",
        "elif user_choice == \"Scissors\" and pc_choice == \"Paper\":\n",
        "  print(\"You win!\")\n",
        "else:\n",
        "  print(\"Wrong input. Try again.\")\n",
        "play_again = input(\"Do you want to play again? \")\n",
        "if play_again != \"Yes\":\n",
        "  print(\"Thank you for playing. \")"
      ],
      "metadata": {
        "colab": {
          "base_uri": "https://localhost:8080/"
        },
        "id": "KxWADvZGDWOZ",
        "outputId": "0293faf2-02d2-4c6c-dbe4-72cbeafaef6c"
      },
      "execution_count": 4,
      "outputs": [
        {
          "output_type": "stream",
          "name": "stdout",
          "text": [
            "Rock, Paper, or Scissors? Rock\n",
            "You win!\n",
            "Do you want to play again? No\n",
            "Thank you for playing. \n"
          ]
        }
      ]
    },
    {
      "cell_type": "markdown",
      "source": [
        "Leap year or not"
      ],
      "metadata": {
        "id": "HfFQ717yNL92"
      }
    },
    {
      "cell_type": "code",
      "source": [
        "year = float(input(\"What year is it? \"))\n",
        "if year%4 == 0 and year%100 != 0 or year%400 == 0:\n",
        "  print(\"It is a leap year. \")\n",
        "else:\n",
        "  print(\"It is not a leap year. \")"
      ],
      "metadata": {
        "colab": {
          "base_uri": "https://localhost:8080/"
        },
        "id": "CmUMdzAsNMPf",
        "outputId": "5201989f-2145-47ca-d100-4f1cc11417c6"
      },
      "execution_count": 1,
      "outputs": [
        {
          "output_type": "stream",
          "name": "stdout",
          "text": [
            "What year is it? 2024\n",
            "It is a leap year. \n"
          ]
        }
      ]
    },
    {
      "cell_type": "code",
      "source": [
        "!pip install ColabTurtlePlus"
      ],
      "metadata": {
        "colab": {
          "base_uri": "https://localhost:8080/"
        },
        "id": "i55lNtY8x8kv",
        "outputId": "db88720b-dd2e-475e-9a0a-fed9751c9953"
      },
      "execution_count": 6,
      "outputs": [
        {
          "output_type": "stream",
          "name": "stdout",
          "text": [
            "Collecting ColabTurtlePlus\n",
            "  Downloading ColabTurtlePlus-2.0.1-py3-none-any.whl (31 kB)\n",
            "Installing collected packages: ColabTurtlePlus\n",
            "Successfully installed ColabTurtlePlus-2.0.1\n"
          ]
        }
      ]
    },
    {
      "cell_type": "code",
      "source": [
        "from ColabTurtlePlus.Turtle import *"
      ],
      "metadata": {
        "id": "uLRTTLkfyNz3"
      },
      "execution_count": null,
      "outputs": []
    }
  ]
}